{
 "cells": [
  {
   "cell_type": "code",
   "execution_count": 1,
   "metadata": {},
   "outputs": [],
   "source": [
    "from bimt.query import ProcessQuery\n",
    "from bimt.indexer.inverted_list import InvertedIndex\n",
    "from bimt.indexer import config\n",
    "from bimt.indexer.inverted_list import read_corpus, parse_corpus_xml\n",
    "from sklearn.feature_extraction.text import CountVectorizer\n",
    "\n",
    "import xml.etree.ElementTree as ET\n",
    "from tqdm import tqdm"
   ]
  },
  {
   "cell_type": "code",
   "execution_count": 2,
   "metadata": {},
   "outputs": [
    {
     "data": {
      "text/plain": [
       "{'DEFAULTS': {'LEIA': ['data/cf74.xml',\n",
       "   'data/cf75.xml',\n",
       "   'data/cf77.xml',\n",
       "   'data/cf78.xml'],\n",
       "  'ESCREVA': 'output/inverted_list.csv'}}"
      ]
     },
     "execution_count": 2,
     "metadata": {},
     "output_type": "execute_result"
    }
   ],
   "source": [
    "config"
   ]
  },
  {
   "cell_type": "code",
   "execution_count": 3,
   "metadata": {},
   "outputs": [],
   "source": [
    "import numpy as np\n",
    "import pandas as pd"
   ]
  },
  {
   "cell_type": "code",
   "execution_count": 4,
   "metadata": {},
   "outputs": [
    {
     "data": {
      "text/plain": [
       "['data/cf74.xml', 'data/cf75.xml', 'data/cf77.xml', 'data/cf78.xml']"
      ]
     },
     "execution_count": 4,
     "metadata": {},
     "output_type": "execute_result"
    }
   ],
   "source": [
    " config[\"DEFAULTS\"][\"LEIA\"]"
   ]
  },
  {
   "cell_type": "code",
   "execution_count": 5,
   "metadata": {},
   "outputs": [
    {
     "name": "stderr",
     "output_type": "stream",
     "text": [
      "100%|██████████| 167/167 [00:00<00:00, 138730.20it/s]\n",
      "100%|██████████| 188/188 [00:00<00:00, 232673.10it/s]\n",
      "100%|██████████| 199/199 [00:00<00:00, 101331.37it/s]\n",
      "100%|██████████| 199/199 [00:00<00:00, 322763.53it/s]\n"
     ]
    }
   ],
   "source": [
    "indexer = InvertedIndex.get()"
   ]
  },
  {
   "cell_type": "code",
   "execution_count": 6,
   "metadata": {},
   "outputs": [],
   "source": [
    "indexer.write_fo_file(\"./output/saiu.txt\")"
   ]
  },
  {
   "cell_type": "code",
   "execution_count": null,
   "metadata": {},
   "outputs": [],
   "source": []
  }
 ],
 "metadata": {
  "kernelspec": {
   "display_name": "bimt_env",
   "language": "python",
   "name": "bimt_env"
  },
  "language_info": {
   "codemirror_mode": {
    "name": "ipython",
    "version": 3
   },
   "file_extension": ".py",
   "mimetype": "text/x-python",
   "name": "python",
   "nbconvert_exporter": "python",
   "pygments_lexer": "ipython3",
   "version": "3.7.3"
  }
 },
 "nbformat": 4,
 "nbformat_minor": 4
}
